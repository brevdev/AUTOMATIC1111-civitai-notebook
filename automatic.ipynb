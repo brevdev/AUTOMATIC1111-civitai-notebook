{
 "cells": [
  {
   "cell_type": "markdown",
   "id": "fa54915c-3248-4d10-9654-ec4f032734e8",
   "metadata": {},
   "source": [
    "# Start the server"
   ]
  },
  {
   "cell_type": "code",
   "execution_count": null,
   "id": "ff2c4607",
   "metadata": {},
   "outputs": [],
   "source": [
    "# only uncomment & run this cell if the next one fails\n",
    "# !sudo apt install --no-install-recommends google-perftools -y"
   ]
  },
  {
   "cell_type": "code",
   "execution_count": null,
   "id": "642b2fff-6aee-46a2-8c8a-1587ace11dd9",
   "metadata": {
    "scrolled": true
   },
   "outputs": [],
   "source": [
    "import subprocess\n",
    "import os\n",
    "\n",
    "# save the current working directory\n",
    "cwd = os.getcwd()\n",
    "\n",
    "# change the current working directory\n",
    "os.chdir('../stable-diffusion-webui')\n",
    "\n",
    "subprocess.Popen([\"bash\", \"-c\", \"wget -qO- https://raw.githubusercontent.com/AUTOMATIC1111/stable-diffusion-webui/master/webui.sh | bash\"])\n",
    "\n",
    "# switch back to the original working directory\n",
    "os.chdir(cwd)\n"
   ]
  },
  {
   "cell_type": "code",
   "execution_count": null,
   "id": "9aebc438-a5ff-48c8-b26b-425cb98fe6f2",
   "metadata": {},
   "outputs": [],
   "source": [
    "!pip install requests beautifulsoup4 tqdm"
   ]
  },
  {
   "cell_type": "markdown",
   "id": "3e67b11e-8648-44ce-be3c-d6602e65d452",
   "metadata": {},
   "source": [
    "# Create a deployment URL"
   ]
  },
  {
   "cell_type": "markdown",
   "id": "559cd9e8-6e38-4e26-9d66-283afbd58cba",
   "metadata": {},
   "source": [
    "Do this from the console. Here's a link to the docs: https://brev.dev/docs/how-to/deployments. The port is 7860"
   ]
  },
  {
   "cell_type": "markdown",
   "id": "1a1903d1-e05e-40b6-9060-8eaf4354c6da",
   "metadata": {},
   "source": [
    "# Helpful functions to load new models (just run this)"
   ]
  },
  {
   "cell_type": "code",
   "execution_count": null,
   "id": "dc5f1548-0ffe-4046-abb4-a4f05a3c4d93",
   "metadata": {},
   "outputs": [],
   "source": [
    "import os\n",
    "from urllib.parse import urljoin, urlparse\n",
    "import requests\n",
    "from bs4 import BeautifulSoup\n",
    "from tqdm import tqdm\n",
    "import re\n",
    "\n",
    "def download_file(url, save_dir):\n",
    "    # Send a GET request\n",
    "    response = requests.get(url)\n",
    "    soup = BeautifulSoup(response.text, 'html.parser')\n",
    "\n",
    "    # Look for the download button\n",
    "    download_button = soup.find(\"a\", {\"class\": \"mantine-UnstyledButton-root mantine-Button-root mantine-zj7kjy\"})\n",
    "\n",
    "    # Get the download link\n",
    "    download_link = urljoin(url, download_button.get('href'))\n",
    "\n",
    "    # Try to extract the filename from the Content-Disposition header\n",
    "    content_disposition = response.headers.get('content-disposition', '')\n",
    "    filenames = re.findall('filename=(.+)', content_disposition)\n",
    "\n",
    "    # If the filename is found in the Content-Disposition header, use it;\n",
    "    # otherwise, generate the filename from the URL\n",
    "    if filenames:\n",
    "        filename = filenames[0]\n",
    "    else:\n",
    "        parsed_url = urlparse(url)\n",
    "        filename = os.path.split(parsed_url.path)[-1] + \".safetensors\"\n",
    "\n",
    "    # Make sure the save directory exists\n",
    "    os.makedirs(save_dir, exist_ok=True)\n",
    "\n",
    "    # Download the file and save it\n",
    "    response = requests.get(download_link, stream=True)\n",
    "    if response.status_code == 200:\n",
    "        total_size = int(response.headers.get('content-length', 0))\n",
    "        block_size = 1024 # 1 Kibibyte\n",
    "        t=tqdm(total=total_size, unit='iB', unit_scale=True)\n",
    "        with open(os.path.join(save_dir, filename), 'wb') as f:\n",
    "            for data in response.iter_content(block_size):\n",
    "                t.update(len(data))\n",
    "                f.write(data)\n",
    "        t.close()\n",
    "        if total_size != 0 and t.n != total_size:\n",
    "            print(\"ERROR, something went wrong.\")\n",
    "        print(f\"File downloaded successfully at {os.path.join(save_dir, filename)}\")\n",
    "    else:\n",
    "        print(\"Failed to download the file\")\n",
    "\n",
    "\n",
    "url = 'https://civitai.com/models/4384/dreamshaper'\n",
    "save_dir = '/home/ubuntu/stable-diffusion-webui/models/Stable-diffusion'\n",
    "download_file(url, save_dir)\n"
   ]
  },
  {
   "cell_type": "markdown",
   "id": "fba59ba3-aadd-46b6-8965-2f08cd06b9a5",
   "metadata": {},
   "source": [
    "# Load New Models (works with CivitAI)"
   ]
  },
  {
   "cell_type": "code",
   "execution_count": null,
   "id": "a4d65fc8-e5c8-42f8-b29d-80e332e6431b",
   "metadata": {},
   "outputs": [],
   "source": [
    "# url for the civit ai model\n",
    "url = 'https://civitai.com/models/99020/touch-the-grass'\n",
    "\n",
    "# save models in this directory to use them with AUTOMATIC1111 \n",
    "save_dir = '/home/ubuntu/stable-diffusion-webui/models/Stable-diffusion'\n",
    "\n",
    "# run the function to fetch the model\n",
    "download_file(url, save_dir)"
   ]
  }
 ],
 "metadata": {
  "kernelspec": {
   "display_name": "Python 3 (ipykernel)",
   "language": "python",
   "name": "python3"
  },
  "language_info": {
   "codemirror_mode": {
    "name": "ipython",
    "version": 3
   },
   "file_extension": ".py",
   "mimetype": "text/x-python",
   "name": "python",
   "nbconvert_exporter": "python",
   "pygments_lexer": "ipython3",
   "version": "3.10.12"
  }
 },
 "nbformat": 4,
 "nbformat_minor": 5
}
